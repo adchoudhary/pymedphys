{
 "cells": [
  {
   "cell_type": "code",
   "execution_count": null,
   "metadata": {},
   "outputs": [],
   "source": [
    "import functools\n",
    "import pathlib\n",
    "\n",
    "import numpy as np\n",
    "import matplotlib.pyplot as plt\n",
    "\n",
    "import shapely.geometry\n",
    "import skimage.draw\n",
    "\n",
    "import tensorflow as tf\n",
    "\n",
    "import pydicom\n",
    "\n",
    "import pymedphys\n",
    "import pymedphys._dicom.structure as dcm_struct"
   ]
  },
  {
   "cell_type": "code",
   "execution_count": null,
   "metadata": {},
   "outputs": [],
   "source": [
    "data_path_root = pathlib.Path.home().joinpath('.data/dicom-ct-and-structures')\n",
    "dcm_paths = list(data_path_root.rglob('**/*.dcm'))\n",
    "# dcm_paths"
   ]
  },
  {
   "cell_type": "code",
   "execution_count": null,
   "metadata": {},
   "outputs": [],
   "source": [
    "structure_aliases = {\n",
    "    \"patient\": \"patient\",\n",
    "    \"Patient\": \"patient\",\n",
    "    \"PATIENT\": \"patient\",\n",
    "    \"Number1\": \"remove\",\n",
    "    \"Number2\": \"remove\",\n",
    "    \"Number3\": \"remove\",\n",
    "    \"Number4\": \"remove\",\n",
    "    \"ANT Box\": \"box\"\n",
    "}"
   ]
  },
  {
   "cell_type": "code",
   "execution_count": null,
   "metadata": {},
   "outputs": [],
   "source": [
    "structures_to_collect = [\"patient\", \"box\"]\n",
    "slice_remove_name = \"remove\""
   ]
  },
  {
   "cell_type": "code",
   "execution_count": null,
   "metadata": {},
   "outputs": [],
   "source": [
    "dcm_headers = []\n",
    "\n",
    "for dcm_path in dcm_paths:\n",
    "    dcm_headers.append(pydicom.read_file(dcm_path, force=True, specific_tags=['SOPInstanceUID', 'SOPClassUID']))"
   ]
  },
  {
   "cell_type": "code",
   "execution_count": null,
   "metadata": {},
   "outputs": [],
   "source": [
    "ct_image_paths = {\n",
    "    header.SOPInstanceUID: path\n",
    "    for header, path in zip(dcm_headers, dcm_paths)\n",
    "    if header.SOPClassUID.name == \"CT Image Storage\"\n",
    "}"
   ]
  },
  {
   "cell_type": "code",
   "execution_count": null,
   "metadata": {},
   "outputs": [],
   "source": [
    "structure_set_paths = {\n",
    "    header.SOPInstanceUID: path\n",
    "    for header, path in zip(dcm_headers, dcm_paths)\n",
    "    if header.SOPClassUID.name == \"RT Structure Set Storage\"\n",
    "}"
   ]
  },
  {
   "cell_type": "code",
   "execution_count": null,
   "metadata": {},
   "outputs": [],
   "source": [
    "names = set()\n",
    "\n",
    "for uid, path in structure_set_paths.items():\n",
    "    dcm = pydicom.read_file(path, force=True, specific_tags=['StructureSetROISequence'])\n",
    "    for item in dcm.StructureSetROISequence:\n",
    "        names.add(item.ROIName)"
   ]
  },
  {
   "cell_type": "code",
   "execution_count": null,
   "metadata": {},
   "outputs": [],
   "source": [
    "# names"
   ]
  },
  {
   "cell_type": "code",
   "execution_count": null,
   "metadata": {},
   "outputs": [],
   "source": [
    "names_map = {\n",
    "    'BB': \"bite_block\",\n",
    "    'Bladder': \"bladder\",\n",
    "    \"Bladder_obj\": None,\n",
    "    \"Bowel\": 'bowel',\n",
    "    \"Bowel_obj\": None,\n",
    "    \"Box Adapter\": None,\n",
    "    \"BoxAdaptor\": None,\n",
    "    \"Brain\": \"brain\",\n",
    "    \"Brainstem\": \"brainstem\",\n",
    "    \"Bulla Lt\": \"bulla_left\",\n",
    "    \"Bulla Rt\": \"bulla_right\",\n",
    "    \"CORDprv\": None,\n",
    "    \"CTV\": None,\n",
    "    \"CTV Eval\": None,\n",
    "    \"CTV thyroids\": None,\n",
    "    \"CTVCT\": None,\n",
    "    \"CTVMRI\": None,\n",
    "    \"CTVSmall\": None,\n",
    "    \"CTVeval\": None,\n",
    "    \"CTVnew\": None,\n",
    "    \"Chiasm\": \"chiasm\",\n",
    "    \"Colon\": \"colon\",\n",
    "    \"Colon_obj\": None,\n",
    "    \"Cord\": \"cord\",\n",
    "    \"Cord PRV\": None,\n",
    "    \"Couch Edge\": None,\n",
    "    \"Couch Foam Half Couch\": None,\n",
    "    \"Couch Outer Half Couch\": None,\n",
    "    \"GTV\": None,\n",
    "    \"24.000Gy\": None,\n",
    "    \"AdrenalGTV\": None,\n",
    "    \"Bone_or\": None,\n",
    "    \"BrainObj\": None,\n",
    "    \"CTV1\": None,\n",
    "    \"CTV_LN\": None,\n",
    "    \"CTV_obj\": None,\n",
    "    \"CTV_uncropped\": None,\n",
    "    \"CTVmargin\": None,\n",
    "    \"CTVmargin_eval\": None,\n",
    "    \"CTVobj\": None,\n",
    "    \"CTVobjnew\": None,\n",
    "    \"CTVoptimise\": None,\n",
    "    \"CTVoptimisenew\": None,\n",
    "    \"Cauda equina\": \"causa_equina\",\n",
    "    \"GTV LN\": None,\n",
    "    \"GTV thyroids\": None,\n",
    "    \"GTV+SCAR\": None,\n",
    "    \"GTV-2\": None,\n",
    "    \"OD\": \"lens_right\",\n",
    "    \"OD Lens\": \"lens_right\",\n",
    "    \"Lens OD\": \"lens_right\",\n",
    "    \"OS\": \"lens_left\",\n",
    "    \"OS lens\": \"lens_left\",\n",
    "    \"Lens OS\": \"lens_left\",\n",
    "    \n",
    "}"
   ]
  },
  {
   "cell_type": "code",
   "execution_count": null,
   "metadata": {},
   "outputs": [],
   "source": [
    "mapped_names = set(names_map.keys())\n",
    "print(mapped_names.difference(names))\n",
    "names.difference(mapped_names)"
   ]
  },
  {
   "cell_type": "code",
   "execution_count": null,
   "metadata": {},
   "outputs": [],
   "source": [
    "structure_set_path = list(structure_set_paths.items())[0][1]\n",
    "structure_set_path\n",
    "\n",
    "structure_set = pydicom.read_file(structure_set_path, force=True, specific_tags=['ROIContourSequence', 'StructureSetROISequence'])"
   ]
  },
  {
   "cell_type": "code",
   "execution_count": null,
   "metadata": {},
   "outputs": [],
   "source": [
    "number_to_name_map = {\n",
    "    roi_sequence_item.ROINumber: structure_aliases[roi_sequence_item.ROIName]\n",
    "    for roi_sequence_item in structure_set.StructureSetROISequence\n",
    "    if roi_sequence_item.ROIName in structure_aliases.keys()\n",
    "}"
   ]
  },
  {
   "cell_type": "code",
   "execution_count": null,
   "metadata": {},
   "outputs": [],
   "source": [
    "number_to_name_map"
   ]
  },
  {
   "cell_type": "code",
   "execution_count": null,
   "metadata": {},
   "outputs": [],
   "source": []
  },
  {
   "cell_type": "code",
   "execution_count": null,
   "metadata": {},
   "outputs": [],
   "source": []
  },
  {
   "cell_type": "code",
   "execution_count": null,
   "metadata": {},
   "outputs": [],
   "source": []
  },
  {
   "cell_type": "code",
   "execution_count": null,
   "metadata": {},
   "outputs": [],
   "source": [
    "\n",
    "single_contour_dataset = structure_set.ROIContourSequence[0].ContourSequence[0]\n",
    "\n",
    "single_contour_dataset.ContourImageSequence[0].ReferencedSOPInstanceUID\n",
    "single_contour_dataset.ContourData"
   ]
  },
  {
   "cell_type": "code",
   "execution_count": null,
   "metadata": {},
   "outputs": [],
   "source": [
    "structure_set.ROIContourSequence[0].ReferencedROINumber"
   ]
  },
  {
   "cell_type": "code",
   "execution_count": null,
   "metadata": {},
   "outputs": [],
   "source": [
    "structure_set.StructureSetROISequence[0]"
   ]
  },
  {
   "cell_type": "code",
   "execution_count": null,
   "metadata": {},
   "outputs": [],
   "source": [
    "number_to_name_map = {\n",
    "    roi_sequence_item.ROINumber: roi_sequence_item.ROIName\n",
    "    for roi_sequence_item in structure_set.StructureSetROISequence\n",
    "}\n",
    "\n",
    "number_to_name_map"
   ]
  },
  {
   "cell_type": "code",
   "execution_count": null,
   "metadata": {},
   "outputs": [],
   "source": []
  },
  {
   "cell_type": "code",
   "execution_count": null,
   "metadata": {},
   "outputs": [],
   "source": []
  },
  {
   "cell_type": "code",
   "execution_count": null,
   "metadata": {},
   "outputs": [],
   "source": []
  },
  {
   "cell_type": "code",
   "execution_count": null,
   "metadata": {},
   "outputs": [],
   "source": []
  },
  {
   "cell_type": "code",
   "execution_count": null,
   "metadata": {},
   "outputs": [],
   "source": [
    "contour_to_ct_map = {}\n",
    "\n",
    "for uid, structure_set in structure_sets.items():\n",
    "    structure_set.ROIContourSequence"
   ]
  },
  {
   "cell_type": "code",
   "execution_count": null,
   "metadata": {},
   "outputs": [],
   "source": [
    "ct_to_structure_mapping = {}\n",
    "\n",
    "for key in ct_image_paths.keys():\n",
    "    "
   ]
  },
  {
   "cell_type": "code",
   "execution_count": null,
   "metadata": {},
   "outputs": [],
   "source": [
    "# structure_sets"
   ]
  },
  {
   "cell_type": "code",
   "execution_count": null,
   "metadata": {},
   "outputs": [],
   "source": []
  },
  {
   "cell_type": "code",
   "execution_count": null,
   "metadata": {},
   "outputs": [],
   "source": []
  },
  {
   "cell_type": "code",
   "execution_count": null,
   "metadata": {},
   "outputs": [],
   "source": []
  },
  {
   "cell_type": "code",
   "execution_count": null,
   "metadata": {},
   "outputs": [],
   "source": [
    "a_ct_path = list(ct_image_paths.items())[100][1]\n",
    "dcm = pydicom.read_file(a_ct_path, force=True)"
   ]
  },
  {
   "cell_type": "code",
   "execution_count": null,
   "metadata": {},
   "outputs": [],
   "source": [
    "dcm.file_meta.TransferSyntaxUID = pydicom.uid.ImplicitVRLittleEndian\n",
    "pixel_array = dcm.pixel_array"
   ]
  },
  {
   "cell_type": "code",
   "execution_count": null,
   "metadata": {},
   "outputs": [],
   "source": [
    "plt.contourf(pixel_array)\n",
    "plt.axis('equal')"
   ]
  },
  {
   "cell_type": "code",
   "execution_count": null,
   "metadata": {},
   "outputs": [],
   "source": [
    "np.shape(pixel_array)"
   ]
  },
  {
   "cell_type": "code",
   "execution_count": null,
   "metadata": {},
   "outputs": [],
   "source": [
    "tf.data.Dataset.from_tensor_slices([pixel_array])"
   ]
  },
  {
   "cell_type": "code",
   "execution_count": null,
   "metadata": {},
   "outputs": [],
   "source": []
  },
  {
   "cell_type": "code",
   "execution_count": null,
   "metadata": {},
   "outputs": [],
   "source": [
    "structure_sets"
   ]
  },
  {
   "cell_type": "code",
   "execution_count": null,
   "metadata": {},
   "outputs": [],
   "source": []
  },
  {
   "cell_type": "code",
   "execution_count": null,
   "metadata": {},
   "outputs": [],
   "source": []
  },
  {
   "cell_type": "code",
   "execution_count": null,
   "metadata": {},
   "outputs": [],
   "source": []
  },
  {
   "cell_type": "code",
   "execution_count": null,
   "metadata": {},
   "outputs": [],
   "source": [
    "dcm[-1].SOPClassUID.name == \"CT Image Storage\""
   ]
  },
  {
   "cell_type": "code",
   "execution_count": null,
   "metadata": {},
   "outputs": [],
   "source": [
    "dcm[-1].SOPClassUID.name"
   ]
  },
  {
   "cell_type": "code",
   "execution_count": null,
   "metadata": {},
   "outputs": [],
   "source": [
    "dcm[0]"
   ]
  },
  {
   "cell_type": "code",
   "execution_count": null,
   "metadata": {},
   "outputs": [],
   "source": [
    "dcm_path"
   ]
  },
  {
   "cell_type": "code",
   "execution_count": null,
   "metadata": {},
   "outputs": [],
   "source": [
    "dcm_path"
   ]
  },
  {
   "cell_type": "code",
   "execution_count": null,
   "metadata": {},
   "outputs": [],
   "source": [
    "dcm"
   ]
  },
  {
   "cell_type": "code",
   "execution_count": null,
   "metadata": {},
   "outputs": [],
   "source": [
    "dcm_struct.list_structures(dcm)"
   ]
  },
  {
   "cell_type": "code",
   "execution_count": null,
   "metadata": {},
   "outputs": [],
   "source": [
    "i = 7\n",
    "x, y, z = dcm_struct.pull_structure('ANT Box', dcm)\n",
    "\n",
    "x = x[i]\n",
    "y = y[i]"
   ]
  },
  {
   "cell_type": "code",
   "execution_count": null,
   "metadata": {},
   "outputs": [],
   "source": [
    "plt.plot(x, y)\n",
    "plt.axis('equal')"
   ]
  },
  {
   "cell_type": "code",
   "execution_count": null,
   "metadata": {},
   "outputs": [],
   "source": [
    "dx, dy = 2, 2\n",
    "Cx, Cy = -100, -300\n",
    "\n",
    "Ox, Oy = 1, 1"
   ]
  },
  {
   "cell_type": "code",
   "execution_count": null,
   "metadata": {},
   "outputs": [],
   "source": [
    "r = (y - Cy) / dy * Oy\n",
    "c = (x - Cx) / dx * Ox"
   ]
  },
  {
   "cell_type": "code",
   "execution_count": null,
   "metadata": {},
   "outputs": [],
   "source": [
    "r"
   ]
  },
  {
   "cell_type": "code",
   "execution_count": null,
   "metadata": {},
   "outputs": [],
   "source": [
    "np.array(list(zip(r*4, c*4)))"
   ]
  },
  {
   "cell_type": "code",
   "execution_count": null,
   "metadata": {},
   "outputs": [],
   "source": [
    "img_size = 128\n",
    "expansion = 4"
   ]
  },
  {
   "cell_type": "code",
   "execution_count": null,
   "metadata": {},
   "outputs": [],
   "source": [
    "expanded_mask = skimage.draw.polygon2mask((img_size * expansion, img_size * expansion), np.array(list(zip(r*expansion, c*expansion))))"
   ]
  },
  {
   "cell_type": "code",
   "execution_count": null,
   "metadata": {},
   "outputs": [],
   "source": [
    "plt.pcolormesh(expanded_mask)"
   ]
  },
  {
   "cell_type": "code",
   "execution_count": null,
   "metadata": {},
   "outputs": [],
   "source": [
    "def reduce_expanded_mask(expanded_mask, img_size, expansion):\n",
    "    expanded_mask = tf.dtypes.cast(expanded_mask, tf.float32)\n",
    "    return tf.reduce_mean(\n",
    "        tf.reduce_mean(\n",
    "            tf.reshape(expanded_mask, (img_size, expansion, img_size, expansion)),\n",
    "            axis=1,\n",
    "        ),\n",
    "        axis=2,\n",
    "    )"
   ]
  },
  {
   "cell_type": "code",
   "execution_count": null,
   "metadata": {},
   "outputs": [],
   "source": [
    "mask = reduce_expanded_mask(expanded_mask, img_size, expansion)"
   ]
  },
  {
   "cell_type": "code",
   "execution_count": null,
   "metadata": {},
   "outputs": [],
   "source": [
    "plt.pcolormesh(mask)"
   ]
  }
 ],
 "metadata": {
  "kernelspec": {
   "display_name": "pymedphys-master",
   "language": "python",
   "name": "pymedphys-master"
  },
  "language_info": {
   "codemirror_mode": {
    "name": "ipython",
    "version": 3
   },
   "file_extension": ".py",
   "mimetype": "text/x-python",
   "name": "python",
   "nbconvert_exporter": "python",
   "pygments_lexer": "ipython3",
   "version": "3.7.7"
  }
 },
 "nbformat": 4,
 "nbformat_minor": 4
}
