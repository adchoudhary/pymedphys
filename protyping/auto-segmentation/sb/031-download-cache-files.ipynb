{
 "cells": [
  {
   "cell_type": "markdown",
   "metadata": {},
   "source": [
    "## No need to run this notebook.\n",
    "\n",
    "It will take needlessly forever."
   ]
  },
  {
   "cell_type": "code",
   "execution_count": null,
   "metadata": {},
   "outputs": [],
   "source": [
    "import json\n",
    "import pathlib"
   ]
  },
  {
   "cell_type": "code",
   "execution_count": null,
   "metadata": {},
   "outputs": [],
   "source": [
    "# Makes it so any changes in pymedphys is automatically\n",
    "# propagated into the notebook without needing a kernel reset.\n",
    "from IPython.lib.deepreload import reload\n",
    "%load_ext autoreload\n",
    "%autoreload 2"
   ]
  },
  {
   "cell_type": "code",
   "execution_count": null,
   "metadata": {},
   "outputs": [],
   "source": [
    "import pymedphys\n",
    "from pymedphys.labs.autosegmentation import indexing, filtering"
   ]
  },
  {
   "cell_type": "code",
   "execution_count": null,
   "metadata": {},
   "outputs": [],
   "source": [
    "release_url = 'https://github.com/pymedphys/data/releases/download/structure-dicom'\n",
    "dicom_zip_url_pattern = f'{release_url}/' + '{dicom_type}.{uid}_Anonymised.zip'\n",
    "mappings_url = f'{release_url}/mappings.zip'"
   ]
  },
  {
   "cell_type": "code",
   "execution_count": null,
   "metadata": {},
   "outputs": [],
   "source": [
    "data_download_root = pathlib.Path('auto-segmentation-dicom')"
   ]
  },
  {
   "cell_type": "code",
   "execution_count": null,
   "metadata": {},
   "outputs": [],
   "source": [
    "def get_filename_from_url(url):\n",
    "    filename = url.split('/')[-1]\n",
    "    \n",
    "    return filename"
   ]
  },
  {
   "cell_type": "code",
   "execution_count": null,
   "metadata": {},
   "outputs": [],
   "source": []
  },
  {
   "cell_type": "code",
   "execution_count": null,
   "metadata": {},
   "outputs": [],
   "source": [
    "save_filename = data_download_root.joinpath(\n",
    "    get_filename_from_url(mappings_url))\n",
    "\n",
    "mappings_paths = pymedphys.zip_data_paths(\n",
    "    save_filename,\n",
    "    check_hash=True,\n",
    "    redownload_on_hash_mismatch=True,\n",
    "    url=mappings_url\n",
    ")"
   ]
  },
  {
   "cell_type": "code",
   "execution_count": null,
   "metadata": {},
   "outputs": [],
   "source": [
    "mappings_paths"
   ]
  },
  {
   "cell_type": "code",
   "execution_count": null,
   "metadata": {},
   "outputs": [],
   "source": [
    "data_path_root = mappings_paths[0].parent.parent\n",
    "data_path_root"
   ]
  },
  {
   "cell_type": "code",
   "execution_count": null,
   "metadata": {},
   "outputs": [],
   "source": [
    "name_mappings_path = data_path_root.joinpath('mappings', 'name_mappings.json')\n",
    "names_map = filtering.load_names_mapping(name_mappings_path)"
   ]
  },
  {
   "cell_type": "code",
   "execution_count": null,
   "metadata": {},
   "outputs": [],
   "source": [
    "uid_cache_path = data_path_root.joinpath('mappings', 'uid-cache.json')"
   ]
  },
  {
   "cell_type": "code",
   "execution_count": null,
   "metadata": {},
   "outputs": [],
   "source": [
    "with open(uid_cache_path) as f:\n",
    "    uid_cache = json.load(f)"
   ]
  },
  {
   "cell_type": "code",
   "execution_count": null,
   "metadata": {},
   "outputs": [],
   "source": [
    "(\n",
    "    ct_image_paths,\n",
    "    structure_set_paths,\n",
    "    ct_uid_to_structure_uid,\n",
    "    structure_uid_to_ct_uids,\n",
    ") = indexing.read_uid_cache(data_path_root, uid_cache)"
   ]
  },
  {
   "cell_type": "code",
   "execution_count": null,
   "metadata": {},
   "outputs": [],
   "source": [
    "structure_names_mapping_cache_path = data_path_root.joinpath('mappings', 'structure-names-mapping-cache.json')"
   ]
  },
  {
   "cell_type": "code",
   "execution_count": null,
   "metadata": {},
   "outputs": [],
   "source": [
    "with open(structure_names_mapping_cache_path) as f:\n",
    "    structure_names_cache = json.load(f)\n",
    "    \n",
    "structure_names_by_ct_uid = structure_names_cache[\"structure_names_by_ct_uid\"]\n",
    "structure_names_by_structure_set_uid = structure_names_cache[\n",
    "    \"structure_names_by_structure_set_uid\"\n",
    "]"
   ]
  },
  {
   "cell_type": "code",
   "execution_count": null,
   "metadata": {},
   "outputs": [],
   "source": [
    "uid_to_url = {}\n",
    "\n",
    "for structure_uid, ct_uids in structure_uid_to_ct_uids.items():\n",
    "    uid_to_url[structure_uid] = dicom_zip_url_pattern.format(dicom_type='RS', uid=structure_uid)\n",
    "    \n",
    "    for ct_uid in ct_uids:\n",
    "        uid_to_url[ct_uid] = dicom_zip_url_pattern.format(dicom_type='CT', uid=ct_uid)"
   ]
  },
  {
   "cell_type": "code",
   "execution_count": null,
   "metadata": {},
   "outputs": [],
   "source": [
    "def download_uid(data_download_root, uid, uid_to_url, hash_path):\n",
    "    url = uid_to_url[uid]\n",
    "    filename = get_filename_from_url(url)\n",
    "    save_filepath = data_download_root.joinpath('dicom', filename)\n",
    "    \n",
    "    pymedphys.zip_data_paths(\n",
    "        save_filepath,\n",
    "        check_hash=True,\n",
    "        redownload_on_hash_mismatch=True,\n",
    "        delete_when_no_hash_found=True,\n",
    "        url=url,\n",
    "        hash_filepath=hash_path\n",
    "    )"
   ]
  },
  {
   "cell_type": "code",
   "execution_count": null,
   "metadata": {},
   "outputs": [],
   "source": [
    "# Create masks for the following structures, in the following order\n",
    "structures_to_learn = [\n",
    "    'lens_left', 'lens_right', 'eye_left', 'eye_right', 'patient']\n",
    "\n",
    "# Use the following to filter the slices used for training, validation,\n",
    "# and testing\n",
    "filters = {\n",
    "    \"study_set_must_have_all_of\": structures_to_learn,\n",
    "    \"slice_at_least_one_of\": [\n",
    "        'lens_left', 'lens_right', 'eye_left', 'eye_right'\n",
    "    ],\n",
    "    \"slice_must_have\": ['patient'],\n",
    "    \"slice_cannot_have\": []\n",
    "}"
   ]
  },
  {
   "cell_type": "code",
   "execution_count": null,
   "metadata": {},
   "outputs": [],
   "source": []
  },
  {
   "cell_type": "code",
   "execution_count": null,
   "metadata": {},
   "outputs": [],
   "source": []
  },
  {
   "cell_type": "code",
   "execution_count": null,
   "metadata": {},
   "outputs": [],
   "source": []
  }
 ],
 "metadata": {
  "kernelspec": {
   "display_name": "pymedphys-master",
   "language": "python",
   "name": "pymedphys-master"
  },
  "language_info": {
   "codemirror_mode": {
    "name": "ipython",
    "version": 3
   },
   "file_extension": ".py",
   "mimetype": "text/x-python",
   "name": "python",
   "nbconvert_exporter": "python",
   "pygments_lexer": "ipython3",
   "version": "3.7.7"
  }
 },
 "nbformat": 4,
 "nbformat_minor": 4
}
