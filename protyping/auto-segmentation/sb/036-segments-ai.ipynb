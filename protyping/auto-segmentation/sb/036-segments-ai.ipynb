{
 "cells": [
  {
   "cell_type": "code",
   "execution_count": null,
   "metadata": {},
   "outputs": [],
   "source": [
    "import keyring\n",
    "import getpass\n",
    "import functools\n",
    "\n",
    "import pydicom\n",
    "\n",
    "import segments"
   ]
  },
  {
   "cell_type": "code",
   "execution_count": null,
   "metadata": {},
   "outputs": [],
   "source": [
    "# Makes it so any changes in pymedphys is automatically\n",
    "# propagated into the notebook without needing a kernel reset.\n",
    "from IPython.lib.deepreload import reload\n",
    "%load_ext autoreload\n",
    "%autoreload 2"
   ]
  },
  {
   "cell_type": "code",
   "execution_count": null,
   "metadata": {},
   "outputs": [],
   "source": [
    "from pymedphys._experimental.autosegmentation import pipeline"
   ]
  },
  {
   "cell_type": "code",
   "execution_count": null,
   "metadata": {},
   "outputs": [],
   "source": [
    "if not keyring.get_password('segments-ai', 'api-key'):\n",
    "    segments_api_key = getpass.getpass()\n",
    "    keyring.set_password('segments-ai', 'api-key', segments_api_key)"
   ]
  },
  {
   "cell_type": "code",
   "execution_count": null,
   "metadata": {},
   "outputs": [],
   "source": [
    "if not keyring.get_password('github', 'api-key'):\n",
    "    github_api_key = getpass.getpass()\n",
    "    keyring.set_password('github', 'api-key', github_api_key)"
   ]
  },
  {
   "cell_type": "code",
   "execution_count": null,
   "metadata": {},
   "outputs": [],
   "source": [
    "ct_uid = '1.2.840.113704.1.111.3096.1537312918.112198'"
   ]
  },
  {
   "cell_type": "code",
   "execution_count": null,
   "metadata": {},
   "outputs": [],
   "source": [
    "structures_to_learn = [\n",
    "    'lens_left', 'lens_right', 'eye_left', 'eye_right', 'patient']"
   ]
  },
  {
   "cell_type": "code",
   "execution_count": null,
   "metadata": {},
   "outputs": [],
   "source": [
    "(\n",
    "    data_path_root,\n",
    "    structure_set_paths,\n",
    "    ct_image_paths,\n",
    "    ct_uid_to_structure_uid,\n",
    "    structure_uid_to_ct_uids,\n",
    "    names_map,\n",
    "    structure_names_by_ct_uid,\n",
    "    structure_names_by_structure_set_uid,\n",
    "    uid_to_url,\n",
    "    hash_path,\n",
    ") = pipeline.get_dataset_metadata()"
   ]
  },
  {
   "cell_type": "code",
   "execution_count": null,
   "metadata": {},
   "outputs": [],
   "source": [
    "@functools.lru_cache()\n",
    "def get_dcm_ct_from_uid(ct_uid):\n",
    "    ct_path = ct_image_paths[ct_uid]\n",
    "    dcm_ct = pydicom.read_file(ct_path, force=True)\n",
    "\n",
    "    dcm_ct.file_meta.TransferSyntaxUID = pydicom.uid.ImplicitVRLittleEndian\n",
    "\n",
    "    return dcm_ct\n",
    "\n",
    "@functools.lru_cache()\n",
    "def get_dcm_structure_from_uid(structure_set_uid):\n",
    "    structure_set_path = structure_set_paths[structure_set_uid]\n",
    "\n",
    "    dcm_structure = pydicom.read_file(\n",
    "        structure_set_path,\n",
    "        force=True,\n",
    "        specific_tags=[\"ROIContourSequence\", \"StructureSetROISequence\"],\n",
    "    )\n",
    "\n",
    "    return dcm_structure\n",
    "\n",
    "@functools.lru_cache()\n",
    "def get_contours_by_ct_uid_from_structure_uid(structure_set_uid):\n",
    "    dcm_structure = get_dcm_structure_from_uid(structure_set_uid)\n",
    "\n",
    "    number_to_name_map = {\n",
    "        roi_sequence_item.ROINumber: names_map[roi_sequence_item.ROIName]\n",
    "        for roi_sequence_item in dcm_structure.StructureSetROISequence\n",
    "        if names_map[roi_sequence_item.ROIName] is not None\n",
    "    }\n",
    "\n",
    "    contours_by_ct_uid = pipeline.get_contours_by_ct_uid(dcm_structure, number_to_name_map)\n",
    "\n",
    "    return contours_by_ct_uid"
   ]
  },
  {
   "cell_type": "code",
   "execution_count": null,
   "metadata": {},
   "outputs": [],
   "source": [
    "structure_uid = ct_uid_to_structure_uid[ct_uid]"
   ]
  },
  {
   "cell_type": "code",
   "execution_count": null,
   "metadata": {},
   "outputs": [],
   "source": [
    "ct_path = pipeline.download_uid(data_path_root, ct_uid, uid_to_url, hash_path)\n",
    "structure_path = pipeline.download_uid(data_path_root, structure_uid, uid_to_url, hash_path)"
   ]
  },
  {
   "cell_type": "code",
   "execution_count": null,
   "metadata": {},
   "outputs": [],
   "source": [
    "dcm_ct = get_dcm_ct_from_uid(ct_uid)\n",
    "dcm_structure = get_dcm_structure_from_uid(structure_uid)"
   ]
  },
  {
   "cell_type": "code",
   "execution_count": null,
   "metadata": {},
   "outputs": [],
   "source": [
    "grid_x, grid_y, ct_img = pipeline.create_input_ct_image(dcm_ct)"
   ]
  },
  {
   "cell_type": "code",
   "execution_count": null,
   "metadata": {},
   "outputs": [],
   "source": [
    "contours_by_ct_uid = get_contours_by_ct_uid_from_structure_uid(\n",
    "    structure_uid\n",
    ")"
   ]
  },
  {
   "cell_type": "code",
   "execution_count": null,
   "metadata": {},
   "outputs": [],
   "source": [
    "# contours_by_ct_uid"
   ]
  },
  {
   "cell_type": "code",
   "execution_count": null,
   "metadata": {},
   "outputs": [],
   "source": [
    "contours_on_this_slice = contours_by_ct_uid[ct_uid].keys()\n",
    "contours_on_this_slice"
   ]
  },
  {
   "cell_type": "code",
   "execution_count": null,
   "metadata": {},
   "outputs": [],
   "source": []
  },
  {
   "cell_type": "code",
   "execution_count": null,
   "metadata": {},
   "outputs": [],
   "source": [
    "GH_API = \"https://api.github.com\"\n",
    "GH_REPO = f\"{GH_API}/repos/pymedphys/data\"\n",
    "GH_TAGS = f\"{GH_API}/releases/tags/segments.ai\"\n",
    "AUTH = f\"Authorization: token {github_api_key}\""
   ]
  },
  {
   "cell_type": "code",
   "execution_count": null,
   "metadata": {},
   "outputs": [],
   "source": [
    "# repo = sys.argv[1]\n",
    "# tag = sys.argv[2]\n",
    "# upload_file = sys.argv[3]\n",
    "\n",
    "# token = os.environ['GITHUB_TOKEN']\n",
    "\n",
    "# url_template = 'https://{}.github.com/repos/' + repo + '/releases'\n",
    "\n",
    "# # Create.\n",
    "# _json = json.loads(urlopen(Request(\n",
    "#     url_template.format('api'),\n",
    "#     json.dumps({\n",
    "#         'tag_name': tag,\n",
    "#         'name': tag,\n",
    "#         'prerelease': True,\n",
    "#     }).encode(),\n",
    "#     headers={\n",
    "#         'Accept': 'application/vnd.github.v3+json',\n",
    "#         'Authorization': 'token ' + token,\n",
    "#     },\n",
    "# )).read().decode())\n",
    "# release_id = _json['id']\n",
    "\n",
    "# # Upload.\n",
    "# with open(upload_file, 'br') as myfile:\n",
    "#     content = myfile.read()\n",
    "# _json = json.loads(urlopen(Request(\n",
    "#     url_template.format('uploads') + '/' + str(release_id) + '/assets?' \\\n",
    "#       + urlencode({'name': os.path.split(upload_file)[1]}),\n",
    "#     content,\n",
    "#     headers={\n",
    "#         'Accept': 'application/vnd.github.v3+json',\n",
    "#         'Authorization': 'token ' + token,\n",
    "#         'Content-Type': 'application/zip',\n",
    "#     },\n",
    "# )).read().decode())"
   ]
  },
  {
   "cell_type": "code",
   "execution_count": null,
   "metadata": {},
   "outputs": [],
   "source": []
  }
 ],
 "metadata": {
  "kernelspec": {
   "display_name": "pymedphys-master",
   "language": "python",
   "name": "pymedphys-master"
  },
  "language_info": {
   "codemirror_mode": {
    "name": "ipython",
    "version": 3
   },
   "file_extension": ".py",
   "mimetype": "text/x-python",
   "name": "python",
   "nbconvert_exporter": "python",
   "pygments_lexer": "ipython3",
   "version": "3.7.8"
  }
 },
 "nbformat": 4,
 "nbformat_minor": 4
}
