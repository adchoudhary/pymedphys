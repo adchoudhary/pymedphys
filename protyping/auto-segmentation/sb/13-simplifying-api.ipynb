{
 "cells": [
  {
   "cell_type": "code",
   "execution_count": null,
   "metadata": {},
   "outputs": [],
   "source": [
    "import pathlib\n",
    "import random"
   ]
  },
  {
   "cell_type": "code",
   "execution_count": null,
   "metadata": {},
   "outputs": [],
   "source": [
    "# Makes it so any changes in pymedphys is automatically\n",
    "# propagated into the notebook without needing a kernel reset.\n",
    "from IPython.lib.deepreload import reload\n",
    "%load_ext autoreload\n",
    "%autoreload 2"
   ]
  },
  {
   "cell_type": "code",
   "execution_count": null,
   "metadata": {},
   "outputs": [],
   "source": [
    "from pymedphys.labs.autosegmentation import pipeline, filtering"
   ]
  },
  {
   "cell_type": "code",
   "execution_count": null,
   "metadata": {},
   "outputs": [],
   "source": [
    "# Put all of the SASH DICOM data within a directory called 'dicom' \n",
    "# organised by 'training', 'validation', and 'testing' in here:\n",
    "data_path_root = pathlib.Path.home().joinpath('.data/dicom-ct-and-structures')\n",
    "\n",
    "names_map = filtering.load_names_mapping('name_mappings.json')"
   ]
  },
  {
   "cell_type": "code",
   "execution_count": null,
   "metadata": {},
   "outputs": [],
   "source": [
    "# Create masks for the following structures, in the following order\n",
    "structures_to_learn = [\n",
    "    'lens_left', 'lens_right', 'eye_left', 'eye_right', 'patient']\n",
    "\n",
    "# Only use a study set if all of the following are defined on that study set\n",
    "study_set_must_have_all_of = structures_to_learn\n",
    "\n",
    "# Only use a slice if one of the following contours exists on it\n",
    "slice_at_least_one_of = [\n",
    "    'lens_left', 'lens_right', 'eye_left', 'eye_right']\n",
    "slice_must_have = ['patient']\n",
    "slice_cannot_have = []\n",
    "\n",
    "filters = {\n",
    "    \"study_set_must_have_all_of\": study_set_must_have_all_of,\n",
    "    \"slice_at_least_one_of\": slice_at_least_one_of,\n",
    "    \"slice_must_have\": slice_must_have,\n",
    "    \"slice_cannot_have\": slice_cannot_have\n",
    "}"
   ]
  },
  {
   "cell_type": "code",
   "execution_count": null,
   "metadata": {},
   "outputs": [],
   "source": [
    "datasets = pipeline.create_datasets(data_path_root, names_map, structures_to_learn, filters)"
   ]
  },
  {
   "cell_type": "code",
   "execution_count": null,
   "metadata": {},
   "outputs": [],
   "source": []
  },
  {
   "cell_type": "code",
   "execution_count": null,
   "metadata": {},
   "outputs": [],
   "source": [
    "for ct_uid, x_grid, y_grid, input_array, output_array in dataset.take(15):\n",
    "    print(ct_uid)"
   ]
  },
  {
   "cell_type": "code",
   "execution_count": null,
   "metadata": {},
   "outputs": [],
   "source": []
  }
 ],
 "metadata": {
  "kernelspec": {
   "display_name": "pymedphys-master",
   "language": "python",
   "name": "pymedphys-master"
  },
  "language_info": {
   "codemirror_mode": {
    "name": "ipython",
    "version": 3
   },
   "file_extension": ".py",
   "mimetype": "text/x-python",
   "name": "python",
   "nbconvert_exporter": "python",
   "pygments_lexer": "ipython3",
   "version": "3.7.7"
  }
 },
 "nbformat": 4,
 "nbformat_minor": 4
}
