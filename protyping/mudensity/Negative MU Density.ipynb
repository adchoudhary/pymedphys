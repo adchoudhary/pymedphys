{
 "cells": [
  {
   "cell_type": "code",
   "execution_count": null,
   "metadata": {},
   "outputs": [],
   "source": [
    "import pymedphys"
   ]
  },
  {
   "cell_type": "code",
   "execution_count": null,
   "metadata": {},
   "outputs": [],
   "source": [
    "filepath = pymedphys.data_path(\"negative-mu-density.trf\")"
   ]
  },
  {
   "cell_type": "code",
   "execution_count": null,
   "metadata": {},
   "outputs": [],
   "source": [
    "delivery = pymedphys.Delivery.from_logfile(filepath)"
   ]
  },
  {
   "cell_type": "code",
   "execution_count": null,
   "metadata": {},
   "outputs": [],
   "source": [
    "LEAF_PAIR_WIDTHS = (10,) + (5,) * 78 + (10,)\n",
    "MAX_LEAF_GAP = 410\n",
    "GRID_RESOLUTION = 1\n",
    "GRID = pymedphys.mudensity.grid(\n",
    "    max_leaf_gap=MAX_LEAF_GAP,\n",
    "    grid_resolution=GRID_RESOLUTION,\n",
    "    leaf_pair_widths=LEAF_PAIR_WIDTHS,\n",
    ")\n",
    "COORDS = (GRID[\"jaw\"], GRID[\"mlc\"])"
   ]
  },
  {
   "cell_type": "code",
   "execution_count": null,
   "metadata": {},
   "outputs": [],
   "source": [
    "mudensity = delivery.mudensity(leaf_pair_widths=LEAF_PAIR_WIDTHS, grid_resolution=GRID_RESOLUTION, max_leaf_gap=MAX_LEAF_GAP)"
   ]
  },
  {
   "cell_type": "code",
   "execution_count": null,
   "metadata": {},
   "outputs": [],
   "source": [
    "pymedphys.mudensity.display(GRID, mudensity)"
   ]
  },
  {
   "cell_type": "code",
   "execution_count": null,
   "metadata": {},
   "outputs": [],
   "source": []
  }
 ],
 "metadata": {
  "kernelspec": {
   "display_name": "pymedphys-master",
   "language": "python",
   "name": "pymedphys-master"
  },
  "language_info": {
   "codemirror_mode": {
    "name": "ipython",
    "version": 3
   },
   "file_extension": ".py",
   "mimetype": "text/x-python",
   "name": "python",
   "nbconvert_exporter": "python",
   "pygments_lexer": "ipython3",
   "version": "3.7.0"
  }
 },
 "nbformat": 4,
 "nbformat_minor": 4
}
